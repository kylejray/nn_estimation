{
 "cells": [
  {
   "cell_type": "code",
   "execution_count": null,
   "id": "0388c999-02dd-4d0e-b8a0-66d89f9c1716",
   "metadata": {},
   "outputs": [],
   "source": [
    "import torch\n",
    "import numpy as np\n",
    "#import matplotlib.pyplot as plt\n",
    "\n",
    "from argparse import Namespace\n",
    "\n",
    "from training import ModelBuilder, ModelTrainer, TrajectoryGenerator\n",
    "\n",
    "from experiments import entropy_loss_TUR, entropy_infer_TUR, entropy_loss_ML, entropy_infer_ML\n",
    "\n",
    "from models import fully_connected_linear\n",
    "\n",
    "from free_diffusion import *\n",
    "\n",
    "\n",
    "%matplotlib inline"
   ]
  },
  {
   "cell_type": "markdown",
   "id": "62257bcb",
   "metadata": {},
   "source": [
    "### EXAMPLE ON THE FLY MODEL CREATION\n",
    "### CNN IS USED SO WE CAN FEED\n",
    "### POSITION COORDS ONLY TO THE NETWORK"
   ]
  },
  {
   "cell_type": "code",
   "execution_count": null,
   "id": "04a26909",
   "metadata": {},
   "outputs": [],
   "source": [
    "# network using a CNN layer, to test just using the position in the network. currently only 1D but could easily be changed to multi-D\n",
    "\n",
    "class TrajByConvolution(ModelBuilder):\n",
    "    def __init__(self, options=None):\n",
    "        default_options = {'n_input':1, 'n_output':1, 'n_hidden':512, 'num_inner':2, 'n_filters':50, 'filter_length':2}\n",
    "        super().__init__(default_options, options)\n",
    "    \n",
    "    def generate_network(self):\n",
    "        opt = self.options\n",
    "\n",
    "        \n",
    "        self.c2d = torch.nn.Sequential(torch.nn.Conv2d(1,  opt.n_filters, (opt.filter_length, opt.n_input)),\n",
    "            torch.nn.ReLU(inplace=True),\n",
    "            )\n",
    "\n",
    "        self.linear_connected = fully_connected_linear(opt.n_filters, opt.n_output, opt.n_hidden, opt.num_inner)\n",
    "\n",
    "    \n",
    "    def forward(self, s):\n",
    "        # this makes sure it just uses the x component, \n",
    "        s = s[...,0:1]\n",
    "\n",
    "        post_filters = self.c2d( s.reshape(s.shape[0], 1, -1, s.shape[-1]) )\n",
    "\n",
    "        return  self.linear_connected(post_filters.swapaxes(1,2)[...,0])\n",
    "    "
   ]
  },
  {
   "cell_type": "code",
   "execution_count": null,
   "id": "f276c8a8",
   "metadata": {},
   "outputs": [],
   "source": [
    "#if you define your model with proper defaults, it will fill in the blanks\n",
    "WeightFunction = TrajByConvolution()"
   ]
  },
  {
   "cell_type": "code",
   "execution_count": null,
   "id": "0a479d59",
   "metadata": {},
   "outputs": [],
   "source": []
  },
  {
   "cell_type": "code",
   "execution_count": null,
   "id": "d5a3329f",
   "metadata": {},
   "outputs": [],
   "source": [
    "# must use at least 2 steps so that we can get 2 values of w for calcualting delta w\n",
    "# this is because the cnn with filter_length=2\n",
    "# gives one value of w for each (x_i,v_i),(x_i+1, v_i+1) pair\n",
    "params['num_steps']=2\n",
    "print('sim_params', params)\n",
    "FreeDiffusion = TrajectoryGenerator(simulate_free_diffusion_underdamped, params)\n"
   ]
  },
  {
   "cell_type": "code",
   "execution_count": null,
   "id": "9645e013-c876-40a2-8328-7c3a8eeacddd",
   "metadata": {},
   "outputs": [],
   "source": [
    "optimizer = torch.optim.Adam\n",
    "#training_options = Namespace()\n",
    "#optimizer = torch.optim.SGD\n",
    "EntProd = ModelTrainer(WeightFunction, FreeDiffusion, optimizer, entropy_loss_TUR, entropy_infer_TUR)"
   ]
  },
  {
   "cell_type": "code",
   "execution_count": null,
   "id": "90eedb64-e790-4ea5-883c-2a7eb3ee8da3",
   "metadata": {},
   "outputs": [],
   "source": [
    "untrained_output, untrained_test_trajectories = EntProd.infer(return_trajectories=True)"
   ]
  },
  {
   "cell_type": "code",
   "execution_count": null,
   "id": "b919a6b9-cfb8-47d3-917c-9b90f3a2a4e9",
   "metadata": {},
   "outputs": [],
   "source": [
    "training_options = EntProd.training_options\n",
    "\n",
    "training_options.n_epoch = 10\n",
    "training_options.epoch_s = 30_000\n",
    "\n",
    "training_options.n_iter = 10\n",
    "training_options.iter_s = 25_000\n",
    "\n",
    "EntProd.train();"
   ]
  },
  {
   "cell_type": "code",
   "execution_count": null,
   "id": "c282a54d-a518-4150-93be-caec7c0bc420",
   "metadata": {},
   "outputs": [],
   "source": [
    "fig, ax = plt.subplots(1,2)\n",
    "plt.close()\n",
    "EntProd.plot_training_loss(ax=ax)"
   ]
  },
  {
   "cell_type": "code",
   "execution_count": null,
   "id": "47e73b30-ec3e-4bd8-923d-f1789978174b",
   "metadata": {},
   "outputs": [],
   "source": [
    "training_options.n_infer = 20\n",
    "training_options.infer_s = 20_000\n",
    "\n",
    "output = EntProd.infer(return_trajectories = False)"
   ]
  },
  {
   "cell_type": "code",
   "execution_count": null,
   "id": "1bc80a10",
   "metadata": {},
   "outputs": [],
   "source": [
    "temp_traj = FreeDiffusion.batch(10)\n",
    "\n",
    "T = params['dt']*(temp_traj.shape[1]-2)\n",
    "\n",
    "resolution = 1_000\n",
    "\n",
    "ents = realepr( np.linspace(0, T, resolution),*params['init'] )*(T/resolution)\n",
    "ent_production = sum(ents)\n",
    "print(ent_production)"
   ]
  },
  {
   "cell_type": "code",
   "execution_count": null,
   "id": "840fb776",
   "metadata": {},
   "outputs": [],
   "source": [
    "fig, ax = plt.subplots(sharex=True, sharey=True)\n",
    "\n",
    "error = np.array(output)/ent_production - 1\n",
    "\n",
    "\n",
    "m, s = np.mean(error), np.std(error)\n",
    "s /= np.sqrt(len(error))\n",
    "ax.plot(error, linestyle='none', marker='D')\n",
    "for l in [m, m-3*s, m+3*s]:\n",
    "    ax.axhline(l, c='k', linewidth=.75)\n",
    "ax.set_xlabel('trial')\n",
    "ax.set_ylabel('relative error')\n",
    "ax.axhline(0, c='k', linestyle='--', linewidth=2)\n",
    "\n",
    "\n",
    "ax.set_title('TUR loss/inference')\n"
   ]
  }
 ],
 "metadata": {
  "kernelspec": {
   "display_name": "neep",
   "language": "python",
   "name": "python3"
  },
  "language_info": {
   "codemirror_mode": {
    "name": "ipython",
    "version": 3
   },
   "file_extension": ".py",
   "mimetype": "text/x-python",
   "name": "python",
   "nbconvert_exporter": "python",
   "pygments_lexer": "ipython3",
   "version": "3.12.3"
  }
 },
 "nbformat": 4,
 "nbformat_minor": 5
}
